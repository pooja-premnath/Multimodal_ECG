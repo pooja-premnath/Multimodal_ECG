{
 "cells": [
  {
   "cell_type": "code",
   "execution_count": 5,
   "metadata": {},
   "outputs": [],
   "source": [
    "from langchain_community.document_loaders import PDFPlumberLoader\n",
    "loader = PDFPlumberLoader(\"The-ECG-Made-Easy-9th-Edition.pdf\")\n",
    "docs = loader.load()"
   ]
  },
  {
   "cell_type": "code",
   "execution_count": 16,
   "metadata": {},
   "outputs": [],
   "source": []
  },
  {
   "cell_type": "code",
   "execution_count": 6,
   "metadata": {},
   "outputs": [
    {
     "name": "stdout",
     "output_type": "stream",
     "text": [
      "Number of pages in the PDF: 269\n"
     ]
    },
    {
     "data": {
      "text/plain": [
       "\"Table of Contents\\nCover image\\nTitle Page\\nCopyright\\nHow to use this book\\nPart 1: The ECG made very easy indeed: a beginner's guide\\nPart 2: The basics: the fundamentals of ECG recording, reporting\\nand interpretation\\nPart 3: Making the most of the ECG: the clinical interpretation of\\nindividual ECGs\\nPart 4: Now test yourself\\nQuick reminders\\nFurther reading\\nPreface\\nPart 1 The ECG made very easy indeed: a beginner's\\nguide\\n\""
      ]
     },
     "execution_count": 6,
     "metadata": {},
     "output_type": "execute_result"
    }
   ],
   "source": [
    "print(\"Number of pages in the PDF:\",len(docs))\n",
    "docs[2].page_content\n"
   ]
  },
  {
   "cell_type": "code",
   "execution_count": 17,
   "metadata": {},
   "outputs": [
    {
     "name": "stderr",
     "output_type": "stream",
     "text": [
      "/var/folders/8c/zybyw_md6p1c6nb6rz716x5h0000gn/T/ipykernel_13490/2762011161.py:4: LangChainDeprecationWarning: Default values for HuggingFaceEmbeddings.model_name were deprecated in LangChain 0.2.16 and will be removed in 0.4.0. Explicitly pass a model_name to the HuggingFaceEmbeddings constructor instead.\n",
      "  text_splitter = SemanticChunker(HuggingFaceEmbeddings())\n",
      "/Users/sanjaibalajee/.pyenv/versions/3.10.4/lib/python3.10/site-packages/sentence_transformers/cross_encoder/CrossEncoder.py:13: TqdmWarning: IProgress not found. Please update jupyter and ipywidgets. See https://ipywidgets.readthedocs.io/en/stable/user_install.html\n",
      "  from tqdm.autonotebook import tqdm, trange\n"
     ]
    }
   ],
   "source": [
    "from langchain_experimental.text_splitter import SemanticChunker\n",
    "from langchain.embeddings import HuggingFaceEmbeddings\n",
    "\n",
    "text_splitter = SemanticChunker(HuggingFaceEmbeddings())\n",
    "documents = text_splitter.split_documents(docs)"
   ]
  },
  {
   "cell_type": "code",
   "execution_count": 8,
   "metadata": {},
   "outputs": [
    {
     "ename": "NameError",
     "evalue": "name 'documents' is not defined",
     "output_type": "error",
     "traceback": [
      "\u001b[0;31m---------------------------------------------------------------------------\u001b[0m",
      "\u001b[0;31mNameError\u001b[0m                                 Traceback (most recent call last)",
      "Cell \u001b[0;32mIn[8], line 1\u001b[0m\n\u001b[0;32m----> 1\u001b[0m \u001b[38;5;28;01mfor\u001b[39;00m i \u001b[38;5;129;01min\u001b[39;00m \u001b[38;5;28mrange\u001b[39m(\u001b[38;5;28mlen\u001b[39m(\u001b[43mdocuments\u001b[49m)):\n\u001b[1;32m      2\u001b[0m     \u001b[38;5;28mprint\u001b[39m()\n\u001b[1;32m      3\u001b[0m     \u001b[38;5;28mprint\u001b[39m(\u001b[38;5;124mf\u001b[39m\u001b[38;5;124m\"\u001b[39m\u001b[38;5;124mCHUNK : \u001b[39m\u001b[38;5;132;01m{\u001b[39;00mi\u001b[38;5;241m+\u001b[39m\u001b[38;5;241m1\u001b[39m\u001b[38;5;132;01m}\u001b[39;00m\u001b[38;5;124m\"\u001b[39m)\n",
      "\u001b[0;31mNameError\u001b[0m: name 'documents' is not defined"
     ]
    }
   ],
   "source": [
    "for i in range(len(documents)):\n",
    "    print()\n",
    "    print(f\"CHUNK : {i+1}\")\n",
    "    print(documents[i].page_content)"
   ]
  },
  {
   "cell_type": "code",
   "execution_count": 9,
   "metadata": {},
   "outputs": [
    {
     "name": "stderr",
     "output_type": "stream",
     "text": [
      "/var/folders/8c/zybyw_md6p1c6nb6rz716x5h0000gn/T/ipykernel_13490/2495835858.py:5: LangChainDeprecationWarning: The class `HuggingFaceEmbeddings` was deprecated in LangChain 0.2.2 and will be removed in 1.0. An updated version of the class exists in the :class:`~langchain-huggingface package and should be used instead. To use it run `pip install -U :class:`~langchain-huggingface` and import as `from :class:`~langchain_huggingface import HuggingFaceEmbeddings``.\n",
      "  embedder = HuggingFaceEmbeddings()\n",
      "/var/folders/8c/zybyw_md6p1c6nb6rz716x5h0000gn/T/ipykernel_13490/2495835858.py:5: LangChainDeprecationWarning: Default values for HuggingFaceEmbeddings.model_name were deprecated in LangChain 0.2.16 and will be removed in 0.4.0. Explicitly pass a model_name to the HuggingFaceEmbeddings constructor instead.\n",
      "  embedder = HuggingFaceEmbeddings()\n"
     ]
    },
    {
     "ename": "ImportError",
     "evalue": "Could not import sentence_transformers python package. Please install it with `pip install sentence-transformers`.",
     "output_type": "error",
     "traceback": [
      "\u001b[0;31m---------------------------------------------------------------------------\u001b[0m",
      "\u001b[0;31mModuleNotFoundError\u001b[0m                       Traceback (most recent call last)",
      "File \u001b[0;32m~/.pyenv/versions/3.10.4/lib/python3.10/site-packages/langchain_community/embeddings/huggingface.py:84\u001b[0m, in \u001b[0;36mHuggingFaceEmbeddings.__init__\u001b[0;34m(self, **kwargs)\u001b[0m\n\u001b[1;32m     83\u001b[0m \u001b[38;5;28;01mtry\u001b[39;00m:\n\u001b[0;32m---> 84\u001b[0m     \u001b[38;5;28;01mimport\u001b[39;00m \u001b[38;5;21;01msentence_transformers\u001b[39;00m\n\u001b[1;32m     86\u001b[0m \u001b[38;5;28;01mexcept\u001b[39;00m \u001b[38;5;167;01mImportError\u001b[39;00m \u001b[38;5;28;01mas\u001b[39;00m exc:\n",
      "\u001b[0;31mModuleNotFoundError\u001b[0m: No module named 'sentence_transformers'",
      "\nThe above exception was the direct cause of the following exception:\n",
      "\u001b[0;31mImportError\u001b[0m                               Traceback (most recent call last)",
      "Cell \u001b[0;32mIn[9], line 5\u001b[0m\n\u001b[1;32m      2\u001b[0m \u001b[38;5;28;01mfrom\u001b[39;00m \u001b[38;5;21;01mlangchain_community\u001b[39;00m\u001b[38;5;21;01m.\u001b[39;00m\u001b[38;5;21;01mvectorstores\u001b[39;00m \u001b[38;5;28;01mimport\u001b[39;00m FAISS\n\u001b[1;32m      4\u001b[0m \u001b[38;5;66;03m# Instantiate the embedding model\u001b[39;00m\n\u001b[0;32m----> 5\u001b[0m embedder \u001b[38;5;241m=\u001b[39m \u001b[43mHuggingFaceEmbeddings\u001b[49m\u001b[43m(\u001b[49m\u001b[43m)\u001b[49m\n\u001b[1;32m      7\u001b[0m \u001b[38;5;66;03m# Create the vector store \u001b[39;00m\n\u001b[1;32m      8\u001b[0m vector \u001b[38;5;241m=\u001b[39m FAISS\u001b[38;5;241m.\u001b[39mfrom_documents(documents, embedder)\n",
      "File \u001b[0;32m~/.pyenv/versions/3.10.4/lib/python3.10/site-packages/langchain_core/_api/deprecation.py:216\u001b[0m, in \u001b[0;36mdeprecated.<locals>.deprecate.<locals>.finalize.<locals>.warn_if_direct_instance\u001b[0;34m(self, *args, **kwargs)\u001b[0m\n\u001b[1;32m    214\u001b[0m     warned \u001b[38;5;241m=\u001b[39m \u001b[38;5;28;01mTrue\u001b[39;00m\n\u001b[1;32m    215\u001b[0m     emit_warning()\n\u001b[0;32m--> 216\u001b[0m \u001b[38;5;28;01mreturn\u001b[39;00m \u001b[43mwrapped\u001b[49m\u001b[43m(\u001b[49m\u001b[38;5;28;43mself\u001b[39;49m\u001b[43m,\u001b[49m\u001b[43m \u001b[49m\u001b[38;5;241;43m*\u001b[39;49m\u001b[43margs\u001b[49m\u001b[43m,\u001b[49m\u001b[43m \u001b[49m\u001b[38;5;241;43m*\u001b[39;49m\u001b[38;5;241;43m*\u001b[39;49m\u001b[43mkwargs\u001b[49m\u001b[43m)\u001b[49m\n",
      "File \u001b[0;32m~/.pyenv/versions/3.10.4/lib/python3.10/site-packages/langchain_community/embeddings/huggingface.py:87\u001b[0m, in \u001b[0;36mHuggingFaceEmbeddings.__init__\u001b[0;34m(self, **kwargs)\u001b[0m\n\u001b[1;32m     84\u001b[0m     \u001b[38;5;28;01mimport\u001b[39;00m \u001b[38;5;21;01msentence_transformers\u001b[39;00m\n\u001b[1;32m     86\u001b[0m \u001b[38;5;28;01mexcept\u001b[39;00m \u001b[38;5;167;01mImportError\u001b[39;00m \u001b[38;5;28;01mas\u001b[39;00m exc:\n\u001b[0;32m---> 87\u001b[0m     \u001b[38;5;28;01mraise\u001b[39;00m \u001b[38;5;167;01mImportError\u001b[39;00m(\n\u001b[1;32m     88\u001b[0m         \u001b[38;5;124m\"\u001b[39m\u001b[38;5;124mCould not import sentence_transformers python package. \u001b[39m\u001b[38;5;124m\"\u001b[39m\n\u001b[1;32m     89\u001b[0m         \u001b[38;5;124m\"\u001b[39m\u001b[38;5;124mPlease install it with `pip install sentence-transformers`.\u001b[39m\u001b[38;5;124m\"\u001b[39m\n\u001b[1;32m     90\u001b[0m     ) \u001b[38;5;28;01mfrom\u001b[39;00m \u001b[38;5;21;01mexc\u001b[39;00m\n\u001b[1;32m     92\u001b[0m \u001b[38;5;28mself\u001b[39m\u001b[38;5;241m.\u001b[39mclient \u001b[38;5;241m=\u001b[39m sentence_transformers\u001b[38;5;241m.\u001b[39mSentenceTransformer(\n\u001b[1;32m     93\u001b[0m     \u001b[38;5;28mself\u001b[39m\u001b[38;5;241m.\u001b[39mmodel_name, cache_folder\u001b[38;5;241m=\u001b[39m\u001b[38;5;28mself\u001b[39m\u001b[38;5;241m.\u001b[39mcache_folder, \u001b[38;5;241m*\u001b[39m\u001b[38;5;241m*\u001b[39m\u001b[38;5;28mself\u001b[39m\u001b[38;5;241m.\u001b[39mmodel_kwargs\n\u001b[1;32m     94\u001b[0m )\n",
      "\u001b[0;31mImportError\u001b[0m: Could not import sentence_transformers python package. Please install it with `pip install sentence-transformers`."
     ]
    }
   ],
   "source": [
    "from langchain_community.embeddings import HuggingFaceEmbeddings\n",
    "from langchain_community.vectorstores import FAISS\n",
    "\n",
    "# Instantiate the embedding model\n",
    "embedder = HuggingFaceEmbeddings()\n",
    "\n",
    "# Create the vector store \n",
    "vector = FAISS.from_documents(documents, embedder)"
   ]
  },
  {
   "cell_type": "code",
   "execution_count": 6,
   "metadata": {},
   "outputs": [],
   "source": [
    "retriever = vector.as_retriever(search_type=\"similarity\", search_kwargs={\"k\": 3})\n",
    "retrieved_docs = retriever.invoke(\"Normal ECG patterns\")"
   ]
  },
  {
   "cell_type": "code",
   "execution_count": 10,
   "metadata": {},
   "outputs": [
    {
     "ename": "NameError",
     "evalue": "name 'retrieved_docs' is not defined",
     "output_type": "error",
     "traceback": [
      "\u001b[0;31m---------------------------------------------------------------------------\u001b[0m",
      "\u001b[0;31mNameError\u001b[0m                                 Traceback (most recent call last)",
      "Cell \u001b[0;32mIn[10], line 1\u001b[0m\n\u001b[0;32m----> 1\u001b[0m \u001b[43mretrieved_docs\u001b[49m\n",
      "\u001b[0;31mNameError\u001b[0m: name 'retrieved_docs' is not defined"
     ]
    }
   ],
   "source": [
    "retrieved_docs"
   ]
  },
  {
   "cell_type": "code",
   "execution_count": 11,
   "metadata": {},
   "outputs": [
    {
     "name": "stderr",
     "output_type": "stream",
     "text": [
      "/var/folders/8c/zybyw_md6p1c6nb6rz716x5h0000gn/T/ipykernel_13490/3849431076.py:2: LangChainDeprecationWarning: The class `Ollama` was deprecated in LangChain 0.3.1 and will be removed in 1.0.0. An updated version of the class exists in the :class:`~langchain-ollama package and should be used instead. To use it run `pip install -U :class:`~langchain-ollama` and import as `from :class:`~langchain_ollama import OllamaLLM``.\n",
      "  llm = Ollama(model=\"phi3\")\n"
     ]
    }
   ],
   "source": [
    "from langchain_community.llms import Ollama\n",
    "llm = Ollama(model=\"phi3\")"
   ]
  },
  {
   "cell_type": "code",
   "execution_count": 12,
   "metadata": {},
   "outputs": [
    {
     "name": "stderr",
     "output_type": "stream",
     "text": [
      "/var/folders/8c/zybyw_md6p1c6nb6rz716x5h0000gn/T/ipykernel_13490/622636874.py:20: LangChainDeprecationWarning: The class `LLMChain` was deprecated in LangChain 0.1.17 and will be removed in 1.0. Use :meth:`~RunnableSequence, e.g., `prompt | llm`` instead.\n",
      "  llm_chain = LLMChain(\n",
      "/var/folders/8c/zybyw_md6p1c6nb6rz716x5h0000gn/T/ipykernel_13490/622636874.py:31: LangChainDeprecationWarning: This class is deprecated. Use the `create_stuff_documents_chain` constructor instead. See migration guide here: https://python.langchain.com/docs/versions/migrating_chains/stuff_docs_chain/\n",
      "  combine_documents_chain = StuffDocumentsChain(\n"
     ]
    },
    {
     "ename": "NameError",
     "evalue": "name 'retriever' is not defined",
     "output_type": "error",
     "traceback": [
      "\u001b[0;31m---------------------------------------------------------------------------\u001b[0m",
      "\u001b[0;31mNameError\u001b[0m                                 Traceback (most recent call last)",
      "Cell \u001b[0;32mIn[12], line 41\u001b[0m\n\u001b[1;32m     26\u001b[0m document_prompt \u001b[38;5;241m=\u001b[39m PromptTemplate(\n\u001b[1;32m     27\u001b[0m     input_variables\u001b[38;5;241m=\u001b[39m[\u001b[38;5;124m\"\u001b[39m\u001b[38;5;124mpage_content\u001b[39m\u001b[38;5;124m\"\u001b[39m, \u001b[38;5;124m\"\u001b[39m\u001b[38;5;124msource\u001b[39m\u001b[38;5;124m\"\u001b[39m],\n\u001b[1;32m     28\u001b[0m     template\u001b[38;5;241m=\u001b[39m\u001b[38;5;124m\"\u001b[39m\u001b[38;5;124mContext:\u001b[39m\u001b[38;5;130;01m\\n\u001b[39;00m\u001b[38;5;124mcontent:\u001b[39m\u001b[38;5;132;01m{page_content}\u001b[39;00m\u001b[38;5;130;01m\\n\u001b[39;00m\u001b[38;5;124msource:\u001b[39m\u001b[38;5;132;01m{source}\u001b[39;00m\u001b[38;5;124m\"\u001b[39m,\n\u001b[1;32m     29\u001b[0m )\n\u001b[1;32m     31\u001b[0m combine_documents_chain \u001b[38;5;241m=\u001b[39m StuffDocumentsChain(\n\u001b[1;32m     32\u001b[0m                   llm_chain\u001b[38;5;241m=\u001b[39mllm_chain,\n\u001b[1;32m     33\u001b[0m                   document_variable_name\u001b[38;5;241m=\u001b[39m\u001b[38;5;124m\"\u001b[39m\u001b[38;5;124mcontext\u001b[39m\u001b[38;5;124m\"\u001b[39m,\n\u001b[1;32m     34\u001b[0m                   document_prompt\u001b[38;5;241m=\u001b[39mdocument_prompt,\n\u001b[1;32m     35\u001b[0m                   callbacks\u001b[38;5;241m=\u001b[39m\u001b[38;5;28;01mNone\u001b[39;00m,\n\u001b[1;32m     36\u001b[0m               )\n\u001b[1;32m     38\u001b[0m qa \u001b[38;5;241m=\u001b[39m RetrievalQA(\n\u001b[1;32m     39\u001b[0m                   combine_documents_chain\u001b[38;5;241m=\u001b[39mcombine_documents_chain,\n\u001b[1;32m     40\u001b[0m                   verbose\u001b[38;5;241m=\u001b[39m\u001b[38;5;28;01mTrue\u001b[39;00m,\n\u001b[0;32m---> 41\u001b[0m                   retriever\u001b[38;5;241m=\u001b[39m\u001b[43mretriever\u001b[49m,\n\u001b[1;32m     42\u001b[0m                   return_source_documents\u001b[38;5;241m=\u001b[39m\u001b[38;5;28;01mTrue\u001b[39;00m,\n\u001b[1;32m     43\u001b[0m               )\n",
      "\u001b[0;31mNameError\u001b[0m: name 'retriever' is not defined"
     ]
    }
   ],
   "source": [
    "from langchain.chains import RetrievalQA\n",
    "from langchain.chains.llm import LLMChain\n",
    "from langchain.chains.combine_documents.stuff import StuffDocumentsChain\n",
    "from langchain.prompts import PromptTemplate\n",
    "\n",
    "prompt = \"\"\"\n",
    "1. Use the following pieces of context to answer the question at the end.\n",
    "2. If you don't know the answer, just say that \"I don't know\" but don't make up an answer on your own.\\n\n",
    "3. Keep the answer crisp and limited to 3,4 sentences.\n",
    "\n",
    "Context: {context}\n",
    "\n",
    "Question: {question}\n",
    "\n",
    "Helpful Answer:\"\"\"\n",
    "\n",
    "\n",
    "QA_CHAIN_PROMPT = PromptTemplate.from_template(prompt) \n",
    "\n",
    "llm_chain = LLMChain(\n",
    "                  llm=llm, \n",
    "                  prompt=QA_CHAIN_PROMPT, \n",
    "                  callbacks=None, \n",
    "                  verbose=True)\n",
    "\n",
    "document_prompt = PromptTemplate(\n",
    "    input_variables=[\"page_content\", \"source\"],\n",
    "    template=\"Context:\\ncontent:{page_content}\\nsource:{source}\",\n",
    ")\n",
    "\n",
    "combine_documents_chain = StuffDocumentsChain(\n",
    "                  llm_chain=llm_chain,\n",
    "                  document_variable_name=\"context\",\n",
    "                  document_prompt=document_prompt,\n",
    "                  callbacks=None,\n",
    "              )\n",
    "\n",
    "qa = RetrievalQA(\n",
    "                  combine_documents_chain=combine_documents_chain,\n",
    "                  verbose=True,\n",
    "                  retriever=retriever,\n",
    "                  return_source_documents=True,\n",
    "              )"
   ]
  },
  {
   "cell_type": "code",
   "execution_count": 12,
   "metadata": {},
   "outputs": [
    {
     "name": "stdout",
     "output_type": "stream",
     "text": [
      "\n",
      "\n",
      "\u001b[1m> Entering new RetrievalQA chain...\u001b[0m\n",
      "\n",
      "\n",
      "\u001b[1m> Entering new LLMChain chain...\u001b[0m\n",
      "Prompt after formatting:\n",
      "\u001b[32;1m\u001b[1;3m\n",
      "1. Use the following pieces of context to answer the question at the end.\n",
      "2. If you don't know the answer, just say that \"I don't know\" but don't make up an answer on your own.\n",
      "\n",
      "3. Keep the answer crisp and limited to 3,4 sentences.\n",
      "\n",
      "Context: Context:\n",
      "content:9\n",
      "ECGs you must be able to\n",
      "recognize\n",
      "ECGs with clinical scenarios 164\n",
      "ECG descriptions and interpretations 172\n",
      "You should now be able to recognize the common ECG patterns, and\n",
      "this final chapter contains twelve 12-lead ECGs for you to interpret. But do not forget two important things: first, an ECG comes from an\n",
      "individual patient and must be interpreted with the patient in mind,\n",
      "and second, there is little point in recording and interpreting an ECG\n",
      "unless you are prepared to take some action based on your findings. This is a theme developed in the companion to this book, 150 ECG\n",
      "Cases. The following ECGs (1–12) are in no particular sequence, and\n",
      "similar ECGs have been described earlier in this book. With each there\n",
      "is a short clinical scenario, and the answers commence on p. 172.\n",
      "source:The-ECG-Made-Easy-9th-Edition.pdf\n",
      "\n",
      "Context:\n",
      "content:Patterns you must be able to recognize\n",
      "The patterns you must be able to recognize, other than rhythm\n",
      "disturbance, are ischaemia, infarction and normal variants. These\n",
      "patterns concern the Q waves, the ST segments and the T waves.\n",
      "source:The-ECG-Made-Easy-9th-Edition.pdf\n",
      "\n",
      "Context:\n",
      "content:Part 2: The basics: the fundamentals of\n",
      "ECG recording, reporting and\n",
      "interpretation\n",
      "Before you can use the ECG as an aid to diagnosis or treatment, you\n",
      "have to understand the basics. Part 2 of this book explains why the\n",
      "electrical activity of the heart can be recorded as an ECG, and\n",
      "describes the significance of the 12 ECG ‘leads’ that make ‘pictures’ of\n",
      "the electrical activity seen from different directions. Part 2 also explains how the ECG can be used to measure the heart\n",
      "rate, to assess the speed of electrical conduction through different\n",
      "parts of the heart, and to determine the rhythm of the heart. The\n",
      "causes of common ‘abnormal’ ECG patterns are described.\n",
      "source:The-ECG-Made-Easy-9th-Edition.pdf\n",
      "\n",
      "Question: What are some features of normal ECG patterns?\n",
      "\n",
      "Helpful Answer:\u001b[0m\n",
      "\n",
      "\u001b[1m> Finished chain.\u001b[0m\n",
      "\n",
      "\u001b[1m> Finished chain.\u001b[0m\n",
      "{'query': 'What are some features of normal ECG patterns?', 'result': \"1. Normal ECGs have a regular rhythm and consistent intervals between QRS complexes, which represent ventricular depolarization. The PR interval reflecting atrioventricular conduction is also typically stable unless there's heart blockage or other pathology. T waves return the electrical activity to its baseline after each beat.\\n2. Normal ECG patterns consist of evenly spaced QRS complexes, a regular P wave rhythm indicating normal atrial depolarization before every ventricular contraction, and normally shaped ST segments that sit level with or slightly above T waves without significant elevation (indicating ischemia) nor depression.\\n3. A typical ECG features no pathological Q waves in leads where there should be none, absence of arrhythmic P wave morphology as seen after atrial activity has completed and before the next one starts, normal-sized or slightly tall T waves without significant peaking (indicating potential repolarization issues), with all these patterns centered within established clinical norm values.\", 'source_documents': [Document(metadata={'source': 'The-ECG-Made-Easy-9th-Edition.pdf', 'file_path': 'The-ECG-Made-Easy-9th-Edition.pdf', 'page': 208, 'total_pages': 269, 'Author': 'J.Hampton', 'CreationDate': \"D:20190323092533+00'00'\", 'Creator': 'calibre (3.40.1) [https://calibre-ebook.com]', 'ModDate': \"D:20190323142234+03'00'\", 'Producer': 'calibre 3.40.1 [https://calibre-ebook.com]', 'Title': 'The ECG Made Easy E-Book'}, page_content='9\\nECGs you must be able to\\nrecognize\\nECGs with clinical scenarios 164\\nECG descriptions and interpretations 172\\nYou should now be able to recognize the common ECG patterns, and\\nthis final chapter contains twelve 12-lead ECGs for you to interpret. But do not forget two important things: first, an ECG comes from an\\nindividual patient and must be interpreted with the patient in mind,\\nand second, there is little point in recording and interpreting an ECG\\nunless you are prepared to take some action based on your findings. This is a theme developed in the companion to this book, 150 ECG\\nCases. The following ECGs (1–12) are in no particular sequence, and\\nsimilar ECGs have been described earlier in this book. With each there\\nis a short clinical scenario, and the answers commence on p. 172.'), Document(metadata={'source': 'The-ECG-Made-Easy-9th-Edition.pdf', 'file_path': 'The-ECG-Made-Easy-9th-Edition.pdf', 'page': 30, 'total_pages': 269, 'Author': 'J.Hampton', 'CreationDate': \"D:20190323092533+00'00'\", 'Creator': 'calibre (3.40.1) [https://calibre-ebook.com]', 'ModDate': \"D:20190323142234+03'00'\", 'Producer': 'calibre 3.40.1 [https://calibre-ebook.com]', 'Title': 'The ECG Made Easy E-Book'}, page_content='Patterns you must be able to recognize\\nThe patterns you must be able to recognize, other than rhythm\\ndisturbance, are ischaemia, infarction and normal variants. These\\npatterns concern the Q waves, the ST segments and the T waves.'), Document(metadata={'source': 'The-ECG-Made-Easy-9th-Edition.pdf', 'file_path': 'The-ECG-Made-Easy-9th-Edition.pdf', 'page': 12, 'total_pages': 269, 'Author': 'J.Hampton', 'CreationDate': \"D:20190323092533+00'00'\", 'Creator': 'calibre (3.40.1) [https://calibre-ebook.com]', 'ModDate': \"D:20190323142234+03'00'\", 'Producer': 'calibre 3.40.1 [https://calibre-ebook.com]', 'Title': 'The ECG Made Easy E-Book'}, page_content='Part 2: The basics: the fundamentals of\\nECG recording, reporting and\\ninterpretation\\nBefore you can use the ECG as an aid to diagnosis or treatment, you\\nhave to understand the basics. Part 2 of this book explains why the\\nelectrical activity of the heart can be recorded as an ECG, and\\ndescribes the significance of the 12 ECG ‘leads’ that make ‘pictures’ of\\nthe electrical activity seen from different directions. Part 2 also explains how the ECG can be used to measure the heart\\nrate, to assess the speed of electrical conduction through different\\nparts of the heart, and to determine the rhythm of the heart. The\\ncauses of common ‘abnormal’ ECG patterns are described.')]}\n"
     ]
    }
   ],
   "source": [
    "print(qa(\"What are some features of normal ECG patterns?\"))"
   ]
  },
  {
   "cell_type": "markdown",
   "metadata": {},
   "source": [
    "### RAG EVALUATION "
   ]
  },
  {
   "cell_type": "code",
   "execution_count": 13,
   "metadata": {},
   "outputs": [
    {
     "name": "stderr",
     "output_type": "stream",
     "text": [
      "huggingface/tokenizers: The current process just got forked, after parallelism has already been used. Disabling parallelism to avoid deadlocks...\n",
      "To disable this warning, you can either:\n",
      "\t- Avoid using `tokenizers` before the fork if possible\n",
      "\t- Explicitly set the environment variable TOKENIZERS_PARALLELISM=(true | false)\n"
     ]
    },
    {
     "name": "stdout",
     "output_type": "stream",
     "text": [
      "Collecting ragas==0.0.22\n",
      "  Downloading ragas-0.0.22-py3-none-any.whl.metadata (4.6 kB)\n",
      "Requirement already satisfied: numpy in /Users/sanjaibalajee/.pyenv/versions/3.10.4/lib/python3.10/site-packages (from ragas==0.0.22) (1.26.4)\n",
      "Collecting datasets (from ragas==0.0.22)\n",
      "  Downloading datasets-3.0.2-py3-none-any.whl.metadata (20 kB)\n",
      "Requirement already satisfied: tiktoken in /Users/sanjaibalajee/.pyenv/versions/3.10.4/lib/python3.10/site-packages (from ragas==0.0.22) (0.7.0)\n",
      "Requirement already satisfied: langchain in /Users/sanjaibalajee/.pyenv/versions/3.10.4/lib/python3.10/site-packages (from ragas==0.0.22) (0.3.1)\n",
      "Requirement already satisfied: openai>1 in /Users/sanjaibalajee/.pyenv/versions/3.10.4/lib/python3.10/site-packages (from ragas==0.0.22) (1.50.0)\n",
      "Collecting pysbd>=0.3.4 (from ragas==0.0.22)\n",
      "  Downloading pysbd-0.3.4-py3-none-any.whl.metadata (6.1 kB)\n",
      "Requirement already satisfied: nest-asyncio in /Users/sanjaibalajee/.pyenv/versions/3.10.4/lib/python3.10/site-packages (from ragas==0.0.22) (1.6.0)\n",
      "Requirement already satisfied: anyio<5,>=3.5.0 in /Users/sanjaibalajee/.pyenv/versions/3.10.4/lib/python3.10/site-packages (from openai>1->ragas==0.0.22) (4.6.0)\n",
      "Requirement already satisfied: distro<2,>=1.7.0 in /Users/sanjaibalajee/.pyenv/versions/3.10.4/lib/python3.10/site-packages (from openai>1->ragas==0.0.22) (1.9.0)\n",
      "Requirement already satisfied: httpx<1,>=0.23.0 in /Users/sanjaibalajee/.pyenv/versions/3.10.4/lib/python3.10/site-packages (from openai>1->ragas==0.0.22) (0.27.2)\n",
      "Requirement already satisfied: jiter<1,>=0.4.0 in /Users/sanjaibalajee/.pyenv/versions/3.10.4/lib/python3.10/site-packages (from openai>1->ragas==0.0.22) (0.5.0)\n",
      "Requirement already satisfied: pydantic<3,>=1.9.0 in /Users/sanjaibalajee/.pyenv/versions/3.10.4/lib/python3.10/site-packages (from openai>1->ragas==0.0.22) (2.9.2)\n",
      "Requirement already satisfied: sniffio in /Users/sanjaibalajee/.pyenv/versions/3.10.4/lib/python3.10/site-packages (from openai>1->ragas==0.0.22) (1.3.1)\n",
      "Requirement already satisfied: tqdm>4 in /Users/sanjaibalajee/.pyenv/versions/3.10.4/lib/python3.10/site-packages (from openai>1->ragas==0.0.22) (4.66.5)\n",
      "Requirement already satisfied: typing-extensions<5,>=4.11 in /Users/sanjaibalajee/.pyenv/versions/3.10.4/lib/python3.10/site-packages (from openai>1->ragas==0.0.22) (4.12.2)\n",
      "Requirement already satisfied: filelock in /Users/sanjaibalajee/.pyenv/versions/3.10.4/lib/python3.10/site-packages (from datasets->ragas==0.0.22) (3.16.1)\n",
      "Collecting pyarrow>=15.0.0 (from datasets->ragas==0.0.22)\n",
      "  Downloading pyarrow-18.0.0-cp310-cp310-macosx_12_0_arm64.whl.metadata (3.3 kB)\n",
      "Collecting dill<0.3.9,>=0.3.0 (from datasets->ragas==0.0.22)\n",
      "  Downloading dill-0.3.8-py3-none-any.whl.metadata (10 kB)\n",
      "Requirement already satisfied: pandas in /Users/sanjaibalajee/.pyenv/versions/3.10.4/lib/python3.10/site-packages (from datasets->ragas==0.0.22) (2.2.3)\n",
      "Requirement already satisfied: requests>=2.32.2 in /Users/sanjaibalajee/.pyenv/versions/3.10.4/lib/python3.10/site-packages (from datasets->ragas==0.0.22) (2.32.3)\n",
      "Collecting xxhash (from datasets->ragas==0.0.22)\n",
      "  Downloading xxhash-3.5.0-cp310-cp310-macosx_11_0_arm64.whl.metadata (12 kB)\n",
      "Collecting multiprocess<0.70.17 (from datasets->ragas==0.0.22)\n",
      "  Downloading multiprocess-0.70.16-py310-none-any.whl.metadata (7.2 kB)\n",
      "Requirement already satisfied: fsspec<=2024.9.0,>=2023.1.0 in /Users/sanjaibalajee/.pyenv/versions/3.10.4/lib/python3.10/site-packages (from fsspec[http]<=2024.9.0,>=2023.1.0->datasets->ragas==0.0.22) (2024.9.0)\n",
      "Requirement already satisfied: aiohttp in /Users/sanjaibalajee/.pyenv/versions/3.10.4/lib/python3.10/site-packages (from datasets->ragas==0.0.22) (3.10.6)\n",
      "Requirement already satisfied: huggingface-hub>=0.23.0 in /Users/sanjaibalajee/.pyenv/versions/3.10.4/lib/python3.10/site-packages (from datasets->ragas==0.0.22) (0.25.1)\n",
      "Requirement already satisfied: packaging in /Users/sanjaibalajee/.pyenv/versions/3.10.4/lib/python3.10/site-packages (from datasets->ragas==0.0.22) (24.1)\n",
      "Requirement already satisfied: pyyaml>=5.1 in /Users/sanjaibalajee/.pyenv/versions/3.10.4/lib/python3.10/site-packages (from datasets->ragas==0.0.22) (6.0.2)\n",
      "Requirement already satisfied: SQLAlchemy<3,>=1.4 in /Users/sanjaibalajee/.pyenv/versions/3.10.4/lib/python3.10/site-packages (from langchain->ragas==0.0.22) (2.0.35)\n",
      "Requirement already satisfied: async-timeout<5.0.0,>=4.0.0 in /Users/sanjaibalajee/.pyenv/versions/3.10.4/lib/python3.10/site-packages (from langchain->ragas==0.0.22) (4.0.3)\n",
      "Requirement already satisfied: langchain-core<0.4.0,>=0.3.6 in /Users/sanjaibalajee/.pyenv/versions/3.10.4/lib/python3.10/site-packages (from langchain->ragas==0.0.22) (0.3.6)\n",
      "Requirement already satisfied: langchain-text-splitters<0.4.0,>=0.3.0 in /Users/sanjaibalajee/.pyenv/versions/3.10.4/lib/python3.10/site-packages (from langchain->ragas==0.0.22) (0.3.0)\n",
      "Requirement already satisfied: langsmith<0.2.0,>=0.1.17 in /Users/sanjaibalajee/.pyenv/versions/3.10.4/lib/python3.10/site-packages (from langchain->ragas==0.0.22) (0.1.129)\n",
      "Requirement already satisfied: tenacity!=8.4.0,<9.0.0,>=8.1.0 in /Users/sanjaibalajee/.pyenv/versions/3.10.4/lib/python3.10/site-packages (from langchain->ragas==0.0.22) (8.5.0)\n",
      "Requirement already satisfied: regex>=2022.1.18 in /Users/sanjaibalajee/.pyenv/versions/3.10.4/lib/python3.10/site-packages (from tiktoken->ragas==0.0.22) (2024.9.11)\n",
      "Requirement already satisfied: aiohappyeyeballs>=2.3.0 in /Users/sanjaibalajee/.pyenv/versions/3.10.4/lib/python3.10/site-packages (from aiohttp->datasets->ragas==0.0.22) (2.4.2)\n",
      "Requirement already satisfied: aiosignal>=1.1.2 in /Users/sanjaibalajee/.pyenv/versions/3.10.4/lib/python3.10/site-packages (from aiohttp->datasets->ragas==0.0.22) (1.3.1)\n",
      "Requirement already satisfied: attrs>=17.3.0 in /Users/sanjaibalajee/.pyenv/versions/3.10.4/lib/python3.10/site-packages (from aiohttp->datasets->ragas==0.0.22) (24.2.0)\n",
      "Requirement already satisfied: frozenlist>=1.1.1 in /Users/sanjaibalajee/.pyenv/versions/3.10.4/lib/python3.10/site-packages (from aiohttp->datasets->ragas==0.0.22) (1.4.1)\n",
      "Requirement already satisfied: multidict<7.0,>=4.5 in /Users/sanjaibalajee/.pyenv/versions/3.10.4/lib/python3.10/site-packages (from aiohttp->datasets->ragas==0.0.22) (6.1.0)\n",
      "Requirement already satisfied: yarl<2.0,>=1.12.0 in /Users/sanjaibalajee/.pyenv/versions/3.10.4/lib/python3.10/site-packages (from aiohttp->datasets->ragas==0.0.22) (1.13.0)\n",
      "Requirement already satisfied: idna>=2.8 in /Users/sanjaibalajee/.pyenv/versions/3.10.4/lib/python3.10/site-packages (from anyio<5,>=3.5.0->openai>1->ragas==0.0.22) (3.10)\n",
      "Requirement already satisfied: exceptiongroup>=1.0.2 in /Users/sanjaibalajee/.pyenv/versions/3.10.4/lib/python3.10/site-packages (from anyio<5,>=3.5.0->openai>1->ragas==0.0.22) (1.2.2)\n",
      "Requirement already satisfied: certifi in /Users/sanjaibalajee/.pyenv/versions/3.10.4/lib/python3.10/site-packages (from httpx<1,>=0.23.0->openai>1->ragas==0.0.22) (2024.8.30)\n",
      "Requirement already satisfied: httpcore==1.* in /Users/sanjaibalajee/.pyenv/versions/3.10.4/lib/python3.10/site-packages (from httpx<1,>=0.23.0->openai>1->ragas==0.0.22) (1.0.5)\n",
      "Requirement already satisfied: h11<0.15,>=0.13 in /Users/sanjaibalajee/.pyenv/versions/3.10.4/lib/python3.10/site-packages (from httpcore==1.*->httpx<1,>=0.23.0->openai>1->ragas==0.0.22) (0.14.0)\n",
      "Requirement already satisfied: jsonpatch<2.0,>=1.33 in /Users/sanjaibalajee/.pyenv/versions/3.10.4/lib/python3.10/site-packages (from langchain-core<0.4.0,>=0.3.6->langchain->ragas==0.0.22) (1.33)\n",
      "Requirement already satisfied: orjson<4.0.0,>=3.9.14 in /Users/sanjaibalajee/.pyenv/versions/3.10.4/lib/python3.10/site-packages (from langsmith<0.2.0,>=0.1.17->langchain->ragas==0.0.22) (3.10.7)\n",
      "Requirement already satisfied: annotated-types>=0.6.0 in /Users/sanjaibalajee/.pyenv/versions/3.10.4/lib/python3.10/site-packages (from pydantic<3,>=1.9.0->openai>1->ragas==0.0.22) (0.7.0)\n",
      "Requirement already satisfied: pydantic-core==2.23.4 in /Users/sanjaibalajee/.pyenv/versions/3.10.4/lib/python3.10/site-packages (from pydantic<3,>=1.9.0->openai>1->ragas==0.0.22) (2.23.4)\n",
      "Requirement already satisfied: charset-normalizer<4,>=2 in /Users/sanjaibalajee/.pyenv/versions/3.10.4/lib/python3.10/site-packages (from requests>=2.32.2->datasets->ragas==0.0.22) (3.3.2)\n",
      "Requirement already satisfied: urllib3<3,>=1.21.1 in /Users/sanjaibalajee/.pyenv/versions/3.10.4/lib/python3.10/site-packages (from requests>=2.32.2->datasets->ragas==0.0.22) (2.2.3)\n",
      "Requirement already satisfied: python-dateutil>=2.8.2 in /Users/sanjaibalajee/.pyenv/versions/3.10.4/lib/python3.10/site-packages (from pandas->datasets->ragas==0.0.22) (2.9.0.post0)\n",
      "Requirement already satisfied: pytz>=2020.1 in /Users/sanjaibalajee/.pyenv/versions/3.10.4/lib/python3.10/site-packages (from pandas->datasets->ragas==0.0.22) (2024.2)\n",
      "Requirement already satisfied: tzdata>=2022.7 in /Users/sanjaibalajee/.pyenv/versions/3.10.4/lib/python3.10/site-packages (from pandas->datasets->ragas==0.0.22) (2024.2)\n",
      "Requirement already satisfied: jsonpointer>=1.9 in /Users/sanjaibalajee/.pyenv/versions/3.10.4/lib/python3.10/site-packages (from jsonpatch<2.0,>=1.33->langchain-core<0.4.0,>=0.3.6->langchain->ragas==0.0.22) (3.0.0)\n",
      "Requirement already satisfied: six>=1.5 in /Users/sanjaibalajee/.pyenv/versions/3.10.4/lib/python3.10/site-packages (from python-dateutil>=2.8.2->pandas->datasets->ragas==0.0.22) (1.16.0)\n",
      "Downloading ragas-0.0.22-py3-none-any.whl (52 kB)\n",
      "Downloading pysbd-0.3.4-py3-none-any.whl (71 kB)\n",
      "Downloading datasets-3.0.2-py3-none-any.whl (472 kB)\n",
      "Downloading dill-0.3.8-py3-none-any.whl (116 kB)\n",
      "Downloading multiprocess-0.70.16-py310-none-any.whl (134 kB)\n",
      "Downloading pyarrow-18.0.0-cp310-cp310-macosx_12_0_arm64.whl (29.5 MB)\n",
      "\u001b[2K   \u001b[90m━━━━━━━━━━━━━━━━━━━━━━━━━━━━━━━━━━━━━━━━\u001b[0m \u001b[32m29.5/29.5 MB\u001b[0m \u001b[31m6.1 MB/s\u001b[0m eta \u001b[36m0:00:00\u001b[0ma \u001b[36m0:00:01\u001b[0m\n",
      "\u001b[?25hDownloading xxhash-3.5.0-cp310-cp310-macosx_11_0_arm64.whl (30 kB)\n",
      "Installing collected packages: xxhash, pysbd, pyarrow, dill, multiprocess, datasets, ragas\n",
      "Successfully installed datasets-3.0.2 dill-0.3.8 multiprocess-0.70.16 pyarrow-18.0.0 pysbd-0.3.4 ragas-0.0.22 xxhash-3.5.0\n",
      "\n",
      "\u001b[1m[\u001b[0m\u001b[34;49mnotice\u001b[0m\u001b[1;39;49m]\u001b[0m\u001b[39;49m A new release of pip is available: \u001b[0m\u001b[31;49m24.2\u001b[0m\u001b[39;49m -> \u001b[0m\u001b[32;49m24.3.1\u001b[0m\n",
      "\u001b[1m[\u001b[0m\u001b[34;49mnotice\u001b[0m\u001b[1;39;49m]\u001b[0m\u001b[39;49m To update, run: \u001b[0m\u001b[32;49mpip install --upgrade pip\u001b[0m\n"
     ]
    }
   ],
   "source": [
    "!pip install ragas==0.0.22"
   ]
  },
  {
   "cell_type": "code",
   "execution_count": 20,
   "metadata": {},
   "outputs": [
    {
     "ename": "ValidationError",
     "evalue": "1 validation error for OpenAIEmbeddings\nopenai_api_key\n  Extra inputs are not permitted [type=extra_forbidden, input_value='no-key', input_type=str]\n    For further information visit https://errors.pydantic.dev/2.9/v/extra_forbidden",
     "output_type": "error",
     "traceback": [
      "\u001b[0;31m---------------------------------------------------------------------------\u001b[0m",
      "\u001b[0;31mValidationError\u001b[0m                           Traceback (most recent call last)",
      "Cell \u001b[0;32mIn[20], line 1\u001b[0m\n\u001b[0;32m----> 1\u001b[0m \u001b[38;5;28;01mfrom\u001b[39;00m \u001b[38;5;21;01mragas\u001b[39;00m\u001b[38;5;21;01m.\u001b[39;00m\u001b[38;5;21;01mlangchain\u001b[39;00m\u001b[38;5;21;01m.\u001b[39;00m\u001b[38;5;21;01mevalchain\u001b[39;00m \u001b[38;5;28;01mimport\u001b[39;00m RagasEvaluatorChain\n\u001b[1;32m      2\u001b[0m \u001b[38;5;28;01mfrom\u001b[39;00m \u001b[38;5;21;01mragas\u001b[39;00m\u001b[38;5;21;01m.\u001b[39;00m\u001b[38;5;21;01mmetrics\u001b[39;00m \u001b[38;5;28;01mimport\u001b[39;00m (\n\u001b[1;32m      3\u001b[0m     faithfulness,\n\u001b[1;32m      4\u001b[0m     answer_relevancy,\n\u001b[1;32m      5\u001b[0m     context_relevancy,\n\u001b[1;32m      6\u001b[0m     context_recall,\n\u001b[1;32m      7\u001b[0m )\n",
      "File \u001b[0;32m~/.pyenv/versions/3.10.4/lib/python3.10/site-packages/ragas/__init__.py:1\u001b[0m\n\u001b[0;32m----> 1\u001b[0m \u001b[38;5;28;01mfrom\u001b[39;00m \u001b[38;5;21;01mragas\u001b[39;00m\u001b[38;5;21;01m.\u001b[39;00m\u001b[38;5;21;01mevaluation\u001b[39;00m \u001b[38;5;28;01mimport\u001b[39;00m evaluate\n\u001b[1;32m      3\u001b[0m \u001b[38;5;28;01mtry\u001b[39;00m:\n\u001b[1;32m      4\u001b[0m     \u001b[38;5;28;01mfrom\u001b[39;00m \u001b[38;5;21;01m.\u001b[39;00m\u001b[38;5;21;01m_version\u001b[39;00m \u001b[38;5;28;01mimport\u001b[39;00m version \u001b[38;5;28;01mas\u001b[39;00m __version__\n",
      "File \u001b[0;32m~/.pyenv/versions/3.10.4/lib/python3.10/site-packages/ragas/evaluation.py:10\u001b[0m\n\u001b[1;32m      7\u001b[0m \u001b[38;5;28;01mfrom\u001b[39;00m \u001b[38;5;21;01mdatasets\u001b[39;00m \u001b[38;5;28;01mimport\u001b[39;00m Dataset, concatenate_datasets\n\u001b[1;32m      9\u001b[0m \u001b[38;5;28;01mfrom\u001b[39;00m \u001b[38;5;21;01mragas\u001b[39;00m\u001b[38;5;21;01m.\u001b[39;00m\u001b[38;5;21;01m_analytics\u001b[39;00m \u001b[38;5;28;01mimport\u001b[39;00m EvaluationEvent, track\n\u001b[0;32m---> 10\u001b[0m \u001b[38;5;28;01mfrom\u001b[39;00m \u001b[38;5;21;01mragas\u001b[39;00m\u001b[38;5;21;01m.\u001b[39;00m\u001b[38;5;21;01mmetrics\u001b[39;00m\u001b[38;5;21;01m.\u001b[39;00m\u001b[38;5;21;01mbase\u001b[39;00m \u001b[38;5;28;01mimport\u001b[39;00m Metric\n\u001b[1;32m     11\u001b[0m \u001b[38;5;28;01mfrom\u001b[39;00m \u001b[38;5;21;01mragas\u001b[39;00m\u001b[38;5;21;01m.\u001b[39;00m\u001b[38;5;21;01mmetrics\u001b[39;00m\u001b[38;5;21;01m.\u001b[39;00m\u001b[38;5;21;01mcritique\u001b[39;00m \u001b[38;5;28;01mimport\u001b[39;00m AspectCritique\n\u001b[1;32m     12\u001b[0m \u001b[38;5;28;01mfrom\u001b[39;00m \u001b[38;5;21;01mragas\u001b[39;00m\u001b[38;5;21;01m.\u001b[39;00m\u001b[38;5;21;01mvalidation\u001b[39;00m \u001b[38;5;28;01mimport\u001b[39;00m (\n\u001b[1;32m     13\u001b[0m     remap_column_names,\n\u001b[1;32m     14\u001b[0m     validate_column_dtypes,\n\u001b[1;32m     15\u001b[0m     validate_evaluation_modes,\n\u001b[1;32m     16\u001b[0m )\n",
      "File \u001b[0;32m~/.pyenv/versions/3.10.4/lib/python3.10/site-packages/ragas/metrics/__init__.py:1\u001b[0m\n\u001b[0;32m----> 1\u001b[0m \u001b[38;5;28;01mfrom\u001b[39;00m \u001b[38;5;21;01mragas\u001b[39;00m\u001b[38;5;21;01m.\u001b[39;00m\u001b[38;5;21;01mmetrics\u001b[39;00m\u001b[38;5;21;01m.\u001b[39;00m\u001b[38;5;21;01m_answer_correctness\u001b[39;00m \u001b[38;5;28;01mimport\u001b[39;00m AnswerCorrectness, answer_correctness\n\u001b[1;32m      2\u001b[0m \u001b[38;5;28;01mfrom\u001b[39;00m \u001b[38;5;21;01mragas\u001b[39;00m\u001b[38;5;21;01m.\u001b[39;00m\u001b[38;5;21;01mmetrics\u001b[39;00m\u001b[38;5;21;01m.\u001b[39;00m\u001b[38;5;21;01m_answer_relevance\u001b[39;00m \u001b[38;5;28;01mimport\u001b[39;00m AnswerRelevancy, answer_relevancy\n\u001b[1;32m      3\u001b[0m \u001b[38;5;28;01mfrom\u001b[39;00m \u001b[38;5;21;01mragas\u001b[39;00m\u001b[38;5;21;01m.\u001b[39;00m\u001b[38;5;21;01mmetrics\u001b[39;00m\u001b[38;5;21;01m.\u001b[39;00m\u001b[38;5;21;01m_answer_similarity\u001b[39;00m \u001b[38;5;28;01mimport\u001b[39;00m AnswerSimilarity, answer_similarity\n",
      "File \u001b[0;32m~/.pyenv/versions/3.10.4/lib/python3.10/site-packages/ragas/metrics/_answer_correctness.py:11\u001b[0m\n\u001b[1;32m      8\u001b[0m \u001b[38;5;28;01mfrom\u001b[39;00m \u001b[38;5;21;01mlangchain\u001b[39;00m\u001b[38;5;21;01m.\u001b[39;00m\u001b[38;5;21;01mcallbacks\u001b[39;00m\u001b[38;5;21;01m.\u001b[39;00m\u001b[38;5;21;01mmanager\u001b[39;00m \u001b[38;5;28;01mimport\u001b[39;00m CallbackManager, trace_as_chain_group\n\u001b[1;32m      9\u001b[0m \u001b[38;5;28;01mfrom\u001b[39;00m \u001b[38;5;21;01mlangchain\u001b[39;00m\u001b[38;5;21;01m.\u001b[39;00m\u001b[38;5;21;01mprompts\u001b[39;00m \u001b[38;5;28;01mimport\u001b[39;00m ChatPromptTemplate, HumanMessagePromptTemplate\n\u001b[0;32m---> 11\u001b[0m \u001b[38;5;28;01mfrom\u001b[39;00m \u001b[38;5;21;01mragas\u001b[39;00m\u001b[38;5;21;01m.\u001b[39;00m\u001b[38;5;21;01mmetrics\u001b[39;00m\u001b[38;5;21;01m.\u001b[39;00m\u001b[38;5;21;01m_answer_similarity\u001b[39;00m \u001b[38;5;28;01mimport\u001b[39;00m AnswerSimilarity\n\u001b[1;32m     12\u001b[0m \u001b[38;5;28;01mfrom\u001b[39;00m \u001b[38;5;21;01mragas\u001b[39;00m\u001b[38;5;21;01m.\u001b[39;00m\u001b[38;5;21;01mmetrics\u001b[39;00m\u001b[38;5;21;01m.\u001b[39;00m\u001b[38;5;21;01mbase\u001b[39;00m \u001b[38;5;28;01mimport\u001b[39;00m EvaluationMode, MetricWithLLM\n\u001b[1;32m     13\u001b[0m \u001b[38;5;28;01mfrom\u001b[39;00m \u001b[38;5;21;01mragas\u001b[39;00m\u001b[38;5;21;01m.\u001b[39;00m\u001b[38;5;21;01mutils\u001b[39;00m \u001b[38;5;28;01mimport\u001b[39;00m json_loader\n",
      "File \u001b[0;32m~/.pyenv/versions/3.10.4/lib/python3.10/site-packages/ragas/metrics/_answer_similarity.py:93\u001b[0m\n\u001b[1;32m     88\u001b[0m             scores \u001b[38;5;241m=\u001b[39m scores \u001b[38;5;241m>\u001b[39m\u001b[38;5;241m=\u001b[39m \u001b[38;5;28mself\u001b[39m\u001b[38;5;241m.\u001b[39mthreshold  \u001b[38;5;66;03m# type: ignore\u001b[39;00m\n\u001b[1;32m     90\u001b[0m         \u001b[38;5;28;01mreturn\u001b[39;00m scores\u001b[38;5;241m.\u001b[39mtolist()\n\u001b[0;32m---> 93\u001b[0m answer_similarity \u001b[38;5;241m=\u001b[39m \u001b[43mAnswerSimilarity\u001b[49m\u001b[43m(\u001b[49m\u001b[43m)\u001b[49m\n",
      "File \u001b[0;32m<string>:7\u001b[0m, in \u001b[0;36m__init__\u001b[0;34m(self, batch_size, llm, name, evaluation_mode, embeddings, is_cross_encoder, threshold)\u001b[0m\n",
      "File \u001b[0;32m~/.pyenv/versions/3.10.4/lib/python3.10/site-packages/ragas/embeddings/base.py:163\u001b[0m, in \u001b[0;36membedding_factory\u001b[0;34m()\u001b[0m\n\u001b[1;32m    162\u001b[0m \u001b[38;5;28;01mdef\u001b[39;00m \u001b[38;5;21membedding_factory\u001b[39m() \u001b[38;5;241m-\u001b[39m\u001b[38;5;241m>\u001b[39m RagasEmbeddings:\n\u001b[0;32m--> 163\u001b[0m     openai_embeddings \u001b[38;5;241m=\u001b[39m \u001b[43mOpenAIEmbeddings\u001b[49m\u001b[43m(\u001b[49m\u001b[43m)\u001b[49m\n\u001b[1;32m    164\u001b[0m     \u001b[38;5;28;01mreturn\u001b[39;00m openai_embeddings\n",
      "File \u001b[0;32m~/.pyenv/versions/3.10.4/lib/python3.10/site-packages/ragas/embeddings/base.py:38\u001b[0m, in \u001b[0;36mOpenAIEmbeddings.__init__\u001b[0;34m(self, api_key)\u001b[0m\n\u001b[1;32m     36\u001b[0m \u001b[38;5;28;01melse\u001b[39;00m:\n\u001b[1;32m     37\u001b[0m     openai_api_key \u001b[38;5;241m=\u001b[39m api_key\n\u001b[0;32m---> 38\u001b[0m \u001b[38;5;28;43msuper\u001b[39;49m\u001b[43m(\u001b[49m\u001b[43mBaseOpenAIEmbeddings\u001b[49m\u001b[43m,\u001b[49m\u001b[43m \u001b[49m\u001b[38;5;28;43mself\u001b[39;49m\u001b[43m)\u001b[49m\u001b[38;5;241;43m.\u001b[39;49m\u001b[38;5;21;43m__init__\u001b[39;49m\u001b[43m(\u001b[49m\u001b[43mopenai_api_key\u001b[49m\u001b[38;5;241;43m=\u001b[39;49m\u001b[43mopenai_api_key\u001b[49m\u001b[43m)\u001b[49m\n\u001b[1;32m     39\u001b[0m \u001b[38;5;28mself\u001b[39m\u001b[38;5;241m.\u001b[39mapi_key \u001b[38;5;241m=\u001b[39m openai_api_key\n",
      "File \u001b[0;32m~/.pyenv/versions/3.10.4/lib/python3.10/site-packages/pydantic/main.py:212\u001b[0m, in \u001b[0;36mBaseModel.__init__\u001b[0;34m(self, **data)\u001b[0m\n\u001b[1;32m    210\u001b[0m \u001b[38;5;66;03m# `__tracebackhide__` tells pytest and some other tools to omit this function from tracebacks\u001b[39;00m\n\u001b[1;32m    211\u001b[0m __tracebackhide__ \u001b[38;5;241m=\u001b[39m \u001b[38;5;28;01mTrue\u001b[39;00m\n\u001b[0;32m--> 212\u001b[0m validated_self \u001b[38;5;241m=\u001b[39m \u001b[38;5;28;43mself\u001b[39;49m\u001b[38;5;241;43m.\u001b[39;49m\u001b[43m__pydantic_validator__\u001b[49m\u001b[38;5;241;43m.\u001b[39;49m\u001b[43mvalidate_python\u001b[49m\u001b[43m(\u001b[49m\u001b[43mdata\u001b[49m\u001b[43m,\u001b[49m\u001b[43m \u001b[49m\u001b[43mself_instance\u001b[49m\u001b[38;5;241;43m=\u001b[39;49m\u001b[38;5;28;43mself\u001b[39;49m\u001b[43m)\u001b[49m\n\u001b[1;32m    213\u001b[0m \u001b[38;5;28;01mif\u001b[39;00m \u001b[38;5;28mself\u001b[39m \u001b[38;5;129;01mis\u001b[39;00m \u001b[38;5;129;01mnot\u001b[39;00m validated_self:\n\u001b[1;32m    214\u001b[0m     warnings\u001b[38;5;241m.\u001b[39mwarn(\n\u001b[1;32m    215\u001b[0m         \u001b[38;5;124m'\u001b[39m\u001b[38;5;124mA custom validator is returning a value other than `self`.\u001b[39m\u001b[38;5;130;01m\\n\u001b[39;00m\u001b[38;5;124m'\u001b[39m\n\u001b[1;32m    216\u001b[0m         \u001b[38;5;124m\"\u001b[39m\u001b[38;5;124mReturning anything other than `self` from a top level model validator isn\u001b[39m\u001b[38;5;124m'\u001b[39m\u001b[38;5;124mt supported when validating via `__init__`.\u001b[39m\u001b[38;5;130;01m\\n\u001b[39;00m\u001b[38;5;124m\"\u001b[39m\n\u001b[1;32m    217\u001b[0m         \u001b[38;5;124m'\u001b[39m\u001b[38;5;124mSee the `model_validator` docs (https://docs.pydantic.dev/latest/concepts/validators/#model-validators) for more details.\u001b[39m\u001b[38;5;124m'\u001b[39m,\n\u001b[1;32m    218\u001b[0m         category\u001b[38;5;241m=\u001b[39m\u001b[38;5;28;01mNone\u001b[39;00m,\n\u001b[1;32m    219\u001b[0m     )\n",
      "\u001b[0;31mValidationError\u001b[0m: 1 validation error for OpenAIEmbeddings\nopenai_api_key\n  Extra inputs are not permitted [type=extra_forbidden, input_value='no-key', input_type=str]\n    For further information visit https://errors.pydantic.dev/2.9/v/extra_forbidden"
     ]
    }
   ],
   "source": [
    "from ragas.langchain.evalchain import RagasEvaluatorChain\n",
    "from ragas.metrics import (\n",
    "    faithfulness,\n",
    "    answer_relevancy,\n",
    "    context_relevancy,\n",
    "    context_recall,\n",
    ")"
   ]
  },
  {
   "cell_type": "code",
   "execution_count": 19,
   "metadata": {},
   "outputs": [
    {
     "name": "stderr",
     "output_type": "stream",
     "text": [
      "huggingface/tokenizers: The current process just got forked, after parallelism has already been used. Disabling parallelism to avoid deadlocks...\n",
      "To disable this warning, you can either:\n",
      "\t- Avoid using `tokenizers` before the fork if possible\n",
      "\t- Explicitly set the environment variable TOKENIZERS_PARALLELISM=(true | false)\n"
     ]
    },
    {
     "name": "stdout",
     "output_type": "stream",
     "text": [
      "Collecting ragas==0.0.22\n",
      "  Downloading ragas-0.0.22-py3-none-any.whl (52 kB)\n",
      "\u001b[2K     \u001b[90m━━━━━━━━━━━━━━━━━━━━━━━━━━━━━━━━━━━━━━━━\u001b[0m \u001b[32m52.4/52.4 KB\u001b[0m \u001b[31m3.3 MB/s\u001b[0m eta \u001b[36m0:00:00\u001b[0m\n",
      "\u001b[?25hCollecting openai>1\n",
      "  Downloading openai-1.53.0-py3-none-any.whl (387 kB)\n",
      "\u001b[2K     \u001b[90m━━━━━━━━━━━━━━━━━━━━━━━━━━━━━━━━━━━━━━━\u001b[0m \u001b[32m387.1/387.1 KB\u001b[0m \u001b[31m9.9 MB/s\u001b[0m eta \u001b[36m0:00:00\u001b[0m00:01\u001b[0m\n",
      "\u001b[?25hCollecting pysbd>=0.3.4\n",
      "  Downloading pysbd-0.3.4-py3-none-any.whl (71 kB)\n",
      "\u001b[2K     \u001b[90m━━━━━━━━━━━━━━━━━━━━━━━━━━━━━━━━━━━━━━━━\u001b[0m \u001b[32m71.1/71.1 KB\u001b[0m \u001b[31m5.5 MB/s\u001b[0m eta \u001b[36m0:00:00\u001b[0m\n",
      "\u001b[?25hRequirement already satisfied: nest-asyncio in /Users/sanjaibalajee/.pyenv/versions/3.10.4/lib/python3.10/site-packages (from ragas==0.0.22) (1.6.0)\n",
      "Requirement already satisfied: numpy in /Users/sanjaibalajee/.pyenv/versions/3.10.4/lib/python3.10/site-packages (from ragas==0.0.22) (1.26.4)\n",
      "Collecting tiktoken\n",
      "  Downloading tiktoken-0.8.0-cp310-cp310-macosx_11_0_arm64.whl (982 kB)\n",
      "\u001b[2K     \u001b[90m━━━━━━━━━━━━━━━━━━━━━━━━━━━━━━━━━━━━━━\u001b[0m \u001b[32m982.4/982.4 KB\u001b[0m \u001b[31m11.0 MB/s\u001b[0m eta \u001b[36m0:00:00\u001b[0ma \u001b[36m0:00:01\u001b[0m\n",
      "\u001b[?25hCollecting datasets\n",
      "  Downloading datasets-3.0.2-py3-none-any.whl (472 kB)\n",
      "\u001b[2K     \u001b[90m━━━━━━━━━━━━━━━━━━━━━━━━━━━━━━━━━━━━━━\u001b[0m \u001b[32m472.7/472.7 KB\u001b[0m \u001b[31m10.6 MB/s\u001b[0m eta \u001b[36m0:00:00\u001b[0ma \u001b[36m0:00:01\u001b[0m\n",
      "\u001b[?25hRequirement already satisfied: langchain in /Users/sanjaibalajee/.pyenv/versions/3.10.4/lib/python3.10/site-packages (from ragas==0.0.22) (0.3.6)\n",
      "Collecting jiter<1,>=0.4.0\n",
      "  Downloading jiter-0.6.1-cp310-cp310-macosx_11_0_arm64.whl (301 kB)\n",
      "\u001b[2K     \u001b[90m━━━━━━━━━━━━━━━━━━━━━━━━━━━━━━━━━━━━━━\u001b[0m \u001b[32m301.6/301.6 KB\u001b[0m \u001b[31m10.0 MB/s\u001b[0m eta \u001b[36m0:00:00\u001b[0m\n",
      "\u001b[?25hRequirement already satisfied: sniffio in /Users/sanjaibalajee/.pyenv/versions/3.10.4/lib/python3.10/site-packages (from openai>1->ragas==0.0.22) (1.3.1)\n",
      "Requirement already satisfied: tqdm>4 in /Users/sanjaibalajee/.pyenv/versions/3.10.4/lib/python3.10/site-packages (from openai>1->ragas==0.0.22) (4.66.6)\n",
      "Requirement already satisfied: httpx<1,>=0.23.0 in /Users/sanjaibalajee/.pyenv/versions/3.10.4/lib/python3.10/site-packages (from openai>1->ragas==0.0.22) (0.27.2)\n",
      "Requirement already satisfied: anyio<5,>=3.5.0 in /Users/sanjaibalajee/.pyenv/versions/3.10.4/lib/python3.10/site-packages (from openai>1->ragas==0.0.22) (4.6.2.post1)\n",
      "Requirement already satisfied: pydantic<3,>=1.9.0 in /Users/sanjaibalajee/.pyenv/versions/3.10.4/lib/python3.10/site-packages (from openai>1->ragas==0.0.22) (2.9.2)\n",
      "Collecting distro<2,>=1.7.0\n",
      "  Using cached distro-1.9.0-py3-none-any.whl (20 kB)\n",
      "Requirement already satisfied: typing-extensions<5,>=4.11 in /Users/sanjaibalajee/.pyenv/versions/3.10.4/lib/python3.10/site-packages (from openai>1->ragas==0.0.22) (4.12.2)\n",
      "Requirement already satisfied: packaging in /Users/sanjaibalajee/.pyenv/versions/3.10.4/lib/python3.10/site-packages (from datasets->ragas==0.0.22) (24.1)\n",
      "Collecting fsspec[http]<=2024.9.0,>=2023.1.0\n",
      "  Using cached fsspec-2024.9.0-py3-none-any.whl (179 kB)\n",
      "Collecting xxhash\n",
      "  Downloading xxhash-3.5.0-cp310-cp310-macosx_11_0_arm64.whl (30 kB)\n",
      "Requirement already satisfied: requests>=2.32.2 in /Users/sanjaibalajee/.pyenv/versions/3.10.4/lib/python3.10/site-packages (from datasets->ragas==0.0.22) (2.32.3)\n",
      "Collecting multiprocess<0.70.17\n",
      "  Downloading multiprocess-0.70.16-py310-none-any.whl (134 kB)\n",
      "\u001b[2K     \u001b[90m━━━━━━━━━━━━━━━━━━━━━━━━━━━━━━━━━━━━━━━\u001b[0m \u001b[32m134.8/134.8 KB\u001b[0m \u001b[31m7.5 MB/s\u001b[0m eta \u001b[36m0:00:00\u001b[0m\n",
      "\u001b[?25hRequirement already satisfied: aiohttp in /Users/sanjaibalajee/.pyenv/versions/3.10.4/lib/python3.10/site-packages (from datasets->ragas==0.0.22) (3.10.10)\n",
      "Requirement already satisfied: pyyaml>=5.1 in /Users/sanjaibalajee/.pyenv/versions/3.10.4/lib/python3.10/site-packages (from datasets->ragas==0.0.22) (6.0.2)\n",
      "Requirement already satisfied: huggingface-hub>=0.23.0 in /Users/sanjaibalajee/.pyenv/versions/3.10.4/lib/python3.10/site-packages (from datasets->ragas==0.0.22) (0.26.2)\n",
      "Collecting pyarrow>=15.0.0\n",
      "  Downloading pyarrow-18.0.0-cp310-cp310-macosx_12_0_arm64.whl (29.5 MB)\n",
      "\u001b[2K     \u001b[90m━━━━━━━━━━━━━━━━━━━━━━━━━━━━━━━━━━━━━━━━\u001b[0m \u001b[32m29.5/29.5 MB\u001b[0m \u001b[31m9.8 MB/s\u001b[0m eta \u001b[36m0:00:00\u001b[0m:00:01\u001b[0m0:01\u001b[0mm\n",
      "\u001b[?25hRequirement already satisfied: filelock in /Users/sanjaibalajee/.pyenv/versions/3.10.4/lib/python3.10/site-packages (from datasets->ragas==0.0.22) (3.16.1)\n",
      "Collecting pandas\n",
      "  Using cached pandas-2.2.3-cp310-cp310-macosx_11_0_arm64.whl (11.3 MB)\n",
      "Collecting dill<0.3.9,>=0.3.0\n",
      "  Downloading dill-0.3.8-py3-none-any.whl (116 kB)\n",
      "\u001b[2K     \u001b[90m━━━━━━━━━━━━━━━━━━━━━━━━━━━━━━━━━━━━━━━\u001b[0m \u001b[32m116.3/116.3 KB\u001b[0m \u001b[31m6.4 MB/s\u001b[0m eta \u001b[36m0:00:00\u001b[0m\n",
      "\u001b[?25hRequirement already satisfied: langchain-core<0.4.0,>=0.3.14 in /Users/sanjaibalajee/.pyenv/versions/3.10.4/lib/python3.10/site-packages (from langchain->ragas==0.0.22) (0.3.14)\n",
      "Requirement already satisfied: SQLAlchemy<3,>=1.4 in /Users/sanjaibalajee/.pyenv/versions/3.10.4/lib/python3.10/site-packages (from langchain->ragas==0.0.22) (2.0.36)\n",
      "Requirement already satisfied: langchain-text-splitters<0.4.0,>=0.3.0 in /Users/sanjaibalajee/.pyenv/versions/3.10.4/lib/python3.10/site-packages (from langchain->ragas==0.0.22) (0.3.1)\n",
      "Requirement already satisfied: async-timeout<5.0.0,>=4.0.0 in /Users/sanjaibalajee/.pyenv/versions/3.10.4/lib/python3.10/site-packages (from langchain->ragas==0.0.22) (4.0.3)\n",
      "Requirement already satisfied: langsmith<0.2.0,>=0.1.17 in /Users/sanjaibalajee/.pyenv/versions/3.10.4/lib/python3.10/site-packages (from langchain->ragas==0.0.22) (0.1.138)\n",
      "Requirement already satisfied: tenacity!=8.4.0,<10,>=8.1.0 in /Users/sanjaibalajee/.pyenv/versions/3.10.4/lib/python3.10/site-packages (from langchain->ragas==0.0.22) (9.0.0)\n",
      "Requirement already satisfied: regex>=2022.1.18 in /Users/sanjaibalajee/.pyenv/versions/3.10.4/lib/python3.10/site-packages (from tiktoken->ragas==0.0.22) (2024.9.11)\n",
      "Requirement already satisfied: aiohappyeyeballs>=2.3.0 in /Users/sanjaibalajee/.pyenv/versions/3.10.4/lib/python3.10/site-packages (from aiohttp->datasets->ragas==0.0.22) (2.4.3)\n",
      "Requirement already satisfied: yarl<2.0,>=1.12.0 in /Users/sanjaibalajee/.pyenv/versions/3.10.4/lib/python3.10/site-packages (from aiohttp->datasets->ragas==0.0.22) (1.17.1)\n",
      "Requirement already satisfied: aiosignal>=1.1.2 in /Users/sanjaibalajee/.pyenv/versions/3.10.4/lib/python3.10/site-packages (from aiohttp->datasets->ragas==0.0.22) (1.3.1)\n",
      "Requirement already satisfied: attrs>=17.3.0 in /Users/sanjaibalajee/.pyenv/versions/3.10.4/lib/python3.10/site-packages (from aiohttp->datasets->ragas==0.0.22) (24.2.0)\n",
      "Requirement already satisfied: multidict<7.0,>=4.5 in /Users/sanjaibalajee/.pyenv/versions/3.10.4/lib/python3.10/site-packages (from aiohttp->datasets->ragas==0.0.22) (6.1.0)\n",
      "Requirement already satisfied: frozenlist>=1.1.1 in /Users/sanjaibalajee/.pyenv/versions/3.10.4/lib/python3.10/site-packages (from aiohttp->datasets->ragas==0.0.22) (1.5.0)\n",
      "Requirement already satisfied: idna>=2.8 in /Users/sanjaibalajee/.pyenv/versions/3.10.4/lib/python3.10/site-packages (from anyio<5,>=3.5.0->openai>1->ragas==0.0.22) (3.10)\n",
      "Requirement already satisfied: exceptiongroup>=1.0.2 in /Users/sanjaibalajee/.pyenv/versions/3.10.4/lib/python3.10/site-packages (from anyio<5,>=3.5.0->openai>1->ragas==0.0.22) (1.2.2)\n",
      "Requirement already satisfied: httpcore==1.* in /Users/sanjaibalajee/.pyenv/versions/3.10.4/lib/python3.10/site-packages (from httpx<1,>=0.23.0->openai>1->ragas==0.0.22) (1.0.6)\n",
      "Requirement already satisfied: certifi in /Users/sanjaibalajee/.pyenv/versions/3.10.4/lib/python3.10/site-packages (from httpx<1,>=0.23.0->openai>1->ragas==0.0.22) (2024.8.30)\n",
      "Requirement already satisfied: h11<0.15,>=0.13 in /Users/sanjaibalajee/.pyenv/versions/3.10.4/lib/python3.10/site-packages (from httpcore==1.*->httpx<1,>=0.23.0->openai>1->ragas==0.0.22) (0.14.0)\n",
      "Requirement already satisfied: jsonpatch<2.0,>=1.33 in /Users/sanjaibalajee/.pyenv/versions/3.10.4/lib/python3.10/site-packages (from langchain-core<0.4.0,>=0.3.14->langchain->ragas==0.0.22) (1.33)\n",
      "Requirement already satisfied: orjson<4.0.0,>=3.9.14 in /Users/sanjaibalajee/.pyenv/versions/3.10.4/lib/python3.10/site-packages (from langsmith<0.2.0,>=0.1.17->langchain->ragas==0.0.22) (3.10.10)\n",
      "Requirement already satisfied: requests-toolbelt<2.0.0,>=1.0.0 in /Users/sanjaibalajee/.pyenv/versions/3.10.4/lib/python3.10/site-packages (from langsmith<0.2.0,>=0.1.17->langchain->ragas==0.0.22) (1.0.0)\n",
      "Requirement already satisfied: pydantic-core==2.23.4 in /Users/sanjaibalajee/.pyenv/versions/3.10.4/lib/python3.10/site-packages (from pydantic<3,>=1.9.0->openai>1->ragas==0.0.22) (2.23.4)\n",
      "Requirement already satisfied: annotated-types>=0.6.0 in /Users/sanjaibalajee/.pyenv/versions/3.10.4/lib/python3.10/site-packages (from pydantic<3,>=1.9.0->openai>1->ragas==0.0.22) (0.7.0)\n",
      "Requirement already satisfied: charset-normalizer<4,>=2 in /Users/sanjaibalajee/.pyenv/versions/3.10.4/lib/python3.10/site-packages (from requests>=2.32.2->datasets->ragas==0.0.22) (3.4.0)\n",
      "Requirement already satisfied: urllib3<3,>=1.21.1 in /Users/sanjaibalajee/.pyenv/versions/3.10.4/lib/python3.10/site-packages (from requests>=2.32.2->datasets->ragas==0.0.22) (2.2.3)\n",
      "Requirement already satisfied: python-dateutil>=2.8.2 in /Users/sanjaibalajee/.pyenv/versions/3.10.4/lib/python3.10/site-packages (from pandas->datasets->ragas==0.0.22) (2.9.0.post0)\n",
      "Collecting pytz>=2020.1\n",
      "  Using cached pytz-2024.2-py2.py3-none-any.whl (508 kB)\n",
      "Collecting tzdata>=2022.7\n",
      "  Using cached tzdata-2024.2-py2.py3-none-any.whl (346 kB)\n",
      "Requirement already satisfied: jsonpointer>=1.9 in /Users/sanjaibalajee/.pyenv/versions/3.10.4/lib/python3.10/site-packages (from jsonpatch<2.0,>=1.33->langchain-core<0.4.0,>=0.3.14->langchain->ragas==0.0.22) (3.0.0)\n",
      "Requirement already satisfied: six>=1.5 in /Users/sanjaibalajee/.pyenv/versions/3.10.4/lib/python3.10/site-packages (from python-dateutil>=2.8.2->pandas->datasets->ragas==0.0.22) (1.16.0)\n",
      "Requirement already satisfied: propcache>=0.2.0 in /Users/sanjaibalajee/.pyenv/versions/3.10.4/lib/python3.10/site-packages (from yarl<2.0,>=1.12.0->aiohttp->datasets->ragas==0.0.22) (0.2.0)\n",
      "Installing collected packages: pytz, xxhash, tzdata, pysbd, pyarrow, jiter, fsspec, distro, dill, tiktoken, pandas, multiprocess, openai, datasets, ragas\n",
      "  Attempting uninstall: fsspec\n",
      "    Found existing installation: fsspec 2024.10.0\n",
      "    Uninstalling fsspec-2024.10.0:\n",
      "      Successfully uninstalled fsspec-2024.10.0\n",
      "Successfully installed datasets-3.0.2 dill-0.3.8 distro-1.9.0 fsspec-2024.9.0 jiter-0.6.1 multiprocess-0.70.16 openai-1.53.0 pandas-2.2.3 pyarrow-18.0.0 pysbd-0.3.4 pytz-2024.2 ragas-0.0.22 tiktoken-0.8.0 tzdata-2024.2 xxhash-3.5.0\n"
     ]
    }
   ],
   "source": [
    "!pip install ragas==0.0.22"
   ]
  },
  {
   "cell_type": "code",
   "execution_count": null,
   "metadata": {},
   "outputs": [],
   "source": []
  }
 ],
 "metadata": {
  "kernelspec": {
   "display_name": "Python 3",
   "language": "python",
   "name": "python3"
  },
  "language_info": {
   "codemirror_mode": {
    "name": "ipython",
    "version": 3
   },
   "file_extension": ".py",
   "mimetype": "text/x-python",
   "name": "python",
   "nbconvert_exporter": "python",
   "pygments_lexer": "ipython3",
   "version": "3.10.4"
  }
 },
 "nbformat": 4,
 "nbformat_minor": 2
}
